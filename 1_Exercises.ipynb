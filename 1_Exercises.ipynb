{
 "cells": [
  {
   "cell_type": "markdown",
   "id": "38e188a5",
   "metadata": {},
   "source": [
    "# Exercise 00\n",
    "Write a piece of code that allocates a list of 20 integers and initializes each element by its index multiplied by 5. Print the result."
   ]
  },
  {
   "cell_type": "code",
   "execution_count": 48,
   "id": "01aa4f35",
   "metadata": {},
   "outputs": [
    {
     "name": "stdout",
     "output_type": "stream",
     "text": [
      "[10, 490, 40, 260, 415, 145, 320, 220, 180, 160, 80, 200, 85, 15, 215, 170, 135, 290, 285, 280]\n"
     ]
    }
   ],
   "source": [
    "import random\n",
    "d=[5*random.randint(1,100) for item in range(20)]\n",
    "print(d)"
   ]
  },
  {
   "cell_type": "markdown",
   "id": "529d91ae",
   "metadata": {},
   "source": [
    "# Exercise 01\n",
    "Define a function that takes an integer as input, prints  all integers that it is divisable by, and returns the largest one."
   ]
  },
  {
   "cell_type": "code",
   "execution_count": 14,
   "id": "30e79132",
   "metadata": {},
   "outputs": [],
   "source": [
    "def integer(x):\n",
    "    largest=1\n",
    "    for i in range(1,x+1):\n",
    "        if x%i==0:\n",
    "            print(i)\n",
    "            largest=i\n",
    "    return largest\n",
    "    \n"
   ]
  },
  {
   "cell_type": "code",
   "execution_count": 16,
   "id": "eb96a641-7e14-4bd1-95c1-bf308976e4a3",
   "metadata": {},
   "outputs": [
    {
     "name": "stdout",
     "output_type": "stream",
     "text": [
      "1\n",
      "2\n",
      "4\n",
      "8\n",
      "16\n",
      "32\n",
      "32\n"
     ]
    }
   ],
   "source": [
    "result=integer(32)\n",
    "print(result)"
   ]
  },
  {
   "cell_type": "markdown",
   "id": "cfbe30d4",
   "metadata": {},
   "source": [
    "# Exercise 02\n",
    "- create a dictionary with 6 keys and values of your choice\n",
    "- write a function that takes a dictionary and a value as input and returns whether the value occurs as a key in the dictionary\n",
    "- write a function that takes a dictionary as input, and returns the dictionary but the keys are swapped with their values (resolve the issue if a value occurs twice!)"
   ]
  },
  {
   "cell_type": "code",
   "execution_count": 17,
   "id": "2123f1c6",
   "metadata": {},
   "outputs": [],
   "source": [
    "thisDict = {'a':'b', 'c':'d','e':'f','g':'h', 'i':'j','k':'l'}"
   ]
  },
  {
   "cell_type": "code",
   "execution_count": 40,
   "id": "5f000ed3-19e3-4022-a63d-5812ee386d73",
   "metadata": {},
   "outputs": [],
   "source": [
    "def value_key(dictionary,value):\n",
    "    return value in dictionary"
   ]
  },
  {
   "cell_type": "code",
   "execution_count": 41,
   "id": "3ac36cdd-db2a-4155-b5d0-26870ba83a2b",
   "metadata": {},
   "outputs": [
    {
     "name": "stdout",
     "output_type": "stream",
     "text": [
      "False\n"
     ]
    }
   ],
   "source": [
    "print(value_key(thisDict,'b'))"
   ]
  },
  {
   "cell_type": "code",
   "execution_count": null,
   "id": "5191aa1f-2ebf-4570-b99d-9cef1f1c4a84",
   "metadata": {},
   "outputs": [],
   "source": [
    "\n"
   ]
  },
  {
   "cell_type": "code",
   "execution_count": 49,
   "id": "2d40b9a7-e587-4732-8d54-7d6a67d10cd6",
   "metadata": {},
   "outputs": [],
   "source": []
  },
  {
   "cell_type": "markdown",
   "id": "b4b4e426",
   "metadata": {},
   "source": [
    "# Exercise 03\n",
    "Define a function that creates a dictionary of the first n fibonacci numbers as values paired with their indices as keys. "
   ]
  },
  {
   "cell_type": "code",
   "execution_count": 50,
   "id": "7845b5a4",
   "metadata": {},
   "outputs": [
    {
     "name": "stdout",
     "output_type": "stream",
     "text": [
      "{0: 0, 1: 1, 2: 1, 3: 2, 4: 3, 5: 5, 6: 8, 7: 13, 8: 21, 9: 34}\n"
     ]
    }
   ],
   "source": [
    "def fibonacci_dict(n):\n",
    "    f_dict = {}\n",
    "    a, b = 0, 1\n",
    "    \n",
    "    for i in range(n):\n",
    "        f_dict[i] = a \n",
    "        a, b = b, a + b\n",
    "    \n",
    "    return f_dict\n",
    "n=10\n",
    "f_dict=fibonacci_dict(n)\n",
    "print(f_dict)"
   ]
  },
  {
   "cell_type": "code",
   "execution_count": null,
   "id": "21e7d168-e757-4946-8663-60c2dd3b3fcc",
   "metadata": {},
   "outputs": [],
   "source": []
  }
 ],
 "metadata": {
  "kernelspec": {
   "display_name": "Python 3 (ipykernel)",
   "language": "python",
   "name": "python3"
  },
  "language_info": {
   "codemirror_mode": {
    "name": "ipython",
    "version": 3
   },
   "file_extension": ".py",
   "mimetype": "text/x-python",
   "name": "python",
   "nbconvert_exporter": "python",
   "pygments_lexer": "ipython3",
   "version": "3.10.11"
  }
 },
 "nbformat": 4,
 "nbformat_minor": 5
}
